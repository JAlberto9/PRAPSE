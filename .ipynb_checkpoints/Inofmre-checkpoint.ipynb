{
 "cells": [
  {
   "cell_type": "code",
   "execution_count": 1,
   "metadata": {},
   "outputs": [],
   "source": [
    "import pandas as pd\n",
    "import numpy as np\n",
    "import os\n"
   ]
  },
  {
   "cell_type": "code",
   "execution_count": 6,
   "metadata": {},
   "outputs": [],
   "source": [
    "df = pd.read_csv('/home/alberto/Descargas/Hoteles_analisis_20181023.csv')"
   ]
  },
  {
   "cell_type": "code",
   "execution_count": 7,
   "metadata": {},
   "outputs": [
    {
     "data": {
      "text/html": [
       "<div>\n",
       "<style scoped>\n",
       "    .dataframe tbody tr th:only-of-type {\n",
       "        vertical-align: middle;\n",
       "    }\n",
       "\n",
       "    .dataframe tbody tr th {\n",
       "        vertical-align: top;\n",
       "    }\n",
       "\n",
       "    .dataframe thead th {\n",
       "        text-align: right;\n",
       "    }\n",
       "</style>\n",
       "<table border=\"1\" class=\"dataframe\">\n",
       "  <thead>\n",
       "    <tr style=\"text-align: right;\">\n",
       "      <th></th>\n",
       "      <th>OBJECTID</th>\n",
       "      <th>Estado</th>\n",
       "      <th>Municipio</th>\n",
       "      <th>Localidad</th>\n",
       "      <th>Nombre</th>\n",
       "      <th>C.P</th>\n",
       "      <th>Latitud</th>\n",
       "      <th>Longitud</th>\n",
       "    </tr>\n",
       "  </thead>\n",
       "  <tbody>\n",
       "    <tr>\n",
       "      <th>1165</th>\n",
       "      <td>COAHUILA DE ZARAGOZA</td>\n",
       "      <td>SALTILLO</td>\n",
       "      <td>Saltillo</td>\n",
       "      <td>HOTEL BRICO</td>\n",
       "      <td>25000.0</td>\n",
       "      <td>25.421622</td>\n",
       "      <td>-101.005505</td>\n",
       "      <td>NaN</td>\n",
       "    </tr>\n",
       "    <tr>\n",
       "      <th>1166</th>\n",
       "      <td>COAHUILA DE ZARAGOZA</td>\n",
       "      <td>SALTILLO</td>\n",
       "      <td>Saltillo</td>\n",
       "      <td>HOTEL SIESTA</td>\n",
       "      <td>25070.0</td>\n",
       "      <td>25.396918</td>\n",
       "      <td>-101.009004</td>\n",
       "      <td>NaN</td>\n",
       "    </tr>\n",
       "    <tr>\n",
       "      <th>1177</th>\n",
       "      <td>COAHUILA DE ZARAGOZA</td>\n",
       "      <td>PARRAS</td>\n",
       "      <td>Parras de la Fuente</td>\n",
       "      <td>POSADA MI PUEBLITO</td>\n",
       "      <td>0.0</td>\n",
       "      <td>25.438195</td>\n",
       "      <td>-102.181453</td>\n",
       "      <td>NaN</td>\n",
       "    </tr>\n",
       "    <tr>\n",
       "      <th>1179</th>\n",
       "      <td>COAHUILA DE ZARAGOZA</td>\n",
       "      <td>SALTILLO</td>\n",
       "      <td>Saltillo</td>\n",
       "      <td>SALTILLENSE. S.A. DE C.V.</td>\n",
       "      <td>25070.0</td>\n",
       "      <td>25.386198</td>\n",
       "      <td>-101.006877</td>\n",
       "      <td>NaN</td>\n",
       "    </tr>\n",
       "    <tr>\n",
       "      <th>1203</th>\n",
       "      <td>COAHUILA DE ZARAGOZA</td>\n",
       "      <td>SALTILLO</td>\n",
       "      <td>Saltillo</td>\n",
       "      <td>HOTEL CENTRAL</td>\n",
       "      <td>25070.0</td>\n",
       "      <td>25.397073</td>\n",
       "      <td>-101.009255</td>\n",
       "      <td>NaN</td>\n",
       "    </tr>\n",
       "  </tbody>\n",
       "</table>\n",
       "</div>"
      ],
      "text/plain": [
       "                  OBJECTID    Estado            Municipio  \\\n",
       "1165  COAHUILA DE ZARAGOZA  SALTILLO             Saltillo   \n",
       "1166  COAHUILA DE ZARAGOZA  SALTILLO             Saltillo   \n",
       "1177  COAHUILA DE ZARAGOZA    PARRAS  Parras de la Fuente   \n",
       "1179  COAHUILA DE ZARAGOZA  SALTILLO             Saltillo   \n",
       "1203  COAHUILA DE ZARAGOZA  SALTILLO             Saltillo   \n",
       "\n",
       "                      Localidad   Nombre        C.P     Latitud  Longitud  \n",
       "1165                HOTEL BRICO  25000.0  25.421622 -101.005505       NaN  \n",
       "1166               HOTEL SIESTA  25070.0  25.396918 -101.009004       NaN  \n",
       "1177         POSADA MI PUEBLITO      0.0  25.438195 -102.181453       NaN  \n",
       "1179  SALTILLENSE. S.A. DE C.V.  25070.0  25.386198 -101.006877       NaN  \n",
       "1203              HOTEL CENTRAL  25070.0  25.397073 -101.009255       NaN  "
      ]
     },
     "execution_count": 7,
     "metadata": {},
     "output_type": "execute_result"
    }
   ],
   "source": [
    "df.head()"
   ]
  },
  {
   "cell_type": "code",
   "execution_count": 34,
   "metadata": {},
   "outputs": [],
   "source": [
    "df3 = df.groupby(('OBJECTID','Estado')).Estado.count()"
   ]
  },
  {
   "cell_type": "code",
   "execution_count": 39,
   "metadata": {},
   "outputs": [
    {
     "data": {
      "text/plain": [
       "(138,)"
      ]
     },
     "execution_count": 39,
     "metadata": {},
     "output_type": "execute_result"
    }
   ],
   "source": [
    "df3.shape"
   ]
  },
  {
   "cell_type": "code",
   "execution_count": 40,
   "metadata": {},
   "outputs": [],
   "source": [
    "df3.to_excel('Hoteles.xlsx',index=False)"
   ]
  },
  {
   "cell_type": "code",
   "execution_count": 38,
   "metadata": {},
   "outputs": [
    {
     "data": {
      "text/plain": [
       "OBJECTID              Estado                  \n",
       "COAHUILA DE ZARAGOZA  ARTEAGA                      1\n",
       "                      CANDELA                      2\n",
       "                      GENERAL CEPEDA               3\n",
       "                      PARRAS                      24\n",
       "                      RAMOS ARIZPE                11\n",
       "                      SALTILLO                    65\n",
       "                      TORREIN                      1\n",
       "DURANGO               CUENCAM                      6\n",
       "                      DURANGO                     99\n",
       "                      GENERAL SIMAN BOL VAR        1\n",
       "                      GENERAL SIMGN BOLMVAR        1\n",
       "                      GENERAL SIMIN BOLMVAR        1\n",
       "                      GUADALUPE VICTORIA           7\n",
       "                      MEZQUITAL                    3\n",
       "                      NOMBRE DE DIOS               4\n",
       "                      P2NUCO DE CORONADO           2\n",
       "                      PE1                          4\n",
       "                      POANAS                       3\n",
       "                      PUEBLO NUEVO                19\n",
       "                      SAN JUAN DE GUADALUPE        2\n",
       "                      VICENTE GUERRERO             6\n",
       "NAYARIT               TECUALA                      4\n",
       "NUEVO LE              AN5HUAC                      1\n",
       "                      APODACA                      3\n",
       "                      GARCOA                       1\n",
       "                      MONTERREY                    8\n",
       "                      SAN NICOLNS DE LOS GARZA     2\n",
       "                      SAN PEDRO GARZA GARCTA       1\n",
       "NUEVO LE N            APODACA                      1\n",
       "                      GENERAL ESCOBEDO             2\n",
       "                                                  ..\n",
       "NUEVO LEIN            SAN PEDRO GARZA GARCTA       1\n",
       "                      SAN PEDRO GARZA GARCrA       4\n",
       "NUEVO LEJN            MONTERREY                    1\n",
       "NUEVO LELN            GENERAL ESCOBEDO             1\n",
       "                      GUADALUPE                    1\n",
       "                      JU1REZ                       2\n",
       "                      MONTERREY                   10\n",
       "                      SABINAS HIDALGO              1\n",
       "                      SALINAS VICTORIA             1\n",
       "NUEVO LEMN            MONTERREY                    3\n",
       "                      SAN PEDRO GARZA GARC A       1\n",
       "NUEVO LENN            APODACA                      6\n",
       "                      GENERAL ESCOBEDO             1\n",
       "                      GUADALUPE                    1\n",
       "                      MONTERREY                   10\n",
       "NUEVO LEON            CERRALVO                     1\n",
       "                      MONTERREY                   18\n",
       "                      SABINAS HIDALGO              1\n",
       "                      SAN NICOLNS DE LOS GARZA     1\n",
       "NUEVO LEPN            BUSTAMANTE                   2\n",
       "                      SAN NICOLNS DE LOS GARZA     2\n",
       "NUEVO LERN            APODACA                      3\n",
       "                      GUADALUPE                    1\n",
       "                      JU1REZ                       1\n",
       "                      MONTERREY                   10\n",
       "                      SAN NICOLNS DE LOS GARZA     1\n",
       "                      SANTA CATARINA               1\n",
       "NUEVO LESN            GENERAL ESCOBEDO             1\n",
       "                      GUADALUPE                    1\n",
       "                      MONTERREY                    8\n",
       "Name: Estado, Length: 100, dtype: int64"
      ]
     },
     "execution_count": 38,
     "metadata": {},
     "output_type": "execute_result"
    }
   ],
   "source": [
    "df3.head(100)"
   ]
  },
  {
   "cell_type": "code",
   "execution_count": 42,
   "metadata": {},
   "outputs": [],
   "source": [
    "df4=df3"
   ]
  },
  {
   "cell_type": "code",
   "execution_count": 43,
   "metadata": {
    "scrolled": true
   },
   "outputs": [
    {
     "data": {
      "text/plain": [
       "OBJECTID              Estado        \n",
       "COAHUILA DE ZARAGOZA  ARTEAGA            1\n",
       "                      CANDELA            2\n",
       "                      GENERAL CEPEDA     3\n",
       "                      PARRAS            24\n",
       "                      RAMOS ARIZPE      11\n",
       "Name: Estado, dtype: int64"
      ]
     },
     "execution_count": 43,
     "metadata": {},
     "output_type": "execute_result"
    }
   ],
   "source": [
    "df4.head()"
   ]
  },
  {
   "cell_type": "code",
   "execution_count": 47,
   "metadata": {},
   "outputs": [],
   "source": [
    "df4.to_excel('Hoteles.xlsx')"
   ]
  },
  {
   "cell_type": "code",
   "execution_count": 63,
   "metadata": {},
   "outputs": [],
   "source": [
    "df5=df[['OBJECTID','Estado']]"
   ]
  },
  {
   "cell_type": "code",
   "execution_count": 64,
   "metadata": {},
   "outputs": [
    {
     "data": {
      "text/html": [
       "<div>\n",
       "<style scoped>\n",
       "    .dataframe tbody tr th:only-of-type {\n",
       "        vertical-align: middle;\n",
       "    }\n",
       "\n",
       "    .dataframe tbody tr th {\n",
       "        vertical-align: top;\n",
       "    }\n",
       "\n",
       "    .dataframe thead th {\n",
       "        text-align: right;\n",
       "    }\n",
       "</style>\n",
       "<table border=\"1\" class=\"dataframe\">\n",
       "  <thead>\n",
       "    <tr style=\"text-align: right;\">\n",
       "      <th></th>\n",
       "      <th>OBJECTID</th>\n",
       "      <th>Estado</th>\n",
       "    </tr>\n",
       "  </thead>\n",
       "  <tbody>\n",
       "    <tr>\n",
       "      <th>1165</th>\n",
       "      <td>COAHUILA DE ZARAGOZA</td>\n",
       "      <td>SALTILLO</td>\n",
       "    </tr>\n",
       "    <tr>\n",
       "      <th>1166</th>\n",
       "      <td>COAHUILA DE ZARAGOZA</td>\n",
       "      <td>SALTILLO</td>\n",
       "    </tr>\n",
       "    <tr>\n",
       "      <th>1177</th>\n",
       "      <td>COAHUILA DE ZARAGOZA</td>\n",
       "      <td>PARRAS</td>\n",
       "    </tr>\n",
       "    <tr>\n",
       "      <th>1179</th>\n",
       "      <td>COAHUILA DE ZARAGOZA</td>\n",
       "      <td>SALTILLO</td>\n",
       "    </tr>\n",
       "    <tr>\n",
       "      <th>1203</th>\n",
       "      <td>COAHUILA DE ZARAGOZA</td>\n",
       "      <td>SALTILLO</td>\n",
       "    </tr>\n",
       "    <tr>\n",
       "      <th>1205</th>\n",
       "      <td>COAHUILA DE ZARAGOZA</td>\n",
       "      <td>PARRAS</td>\n",
       "    </tr>\n",
       "    <tr>\n",
       "      <th>1208</th>\n",
       "      <td>COAHUILA DE ZARAGOZA</td>\n",
       "      <td>PARRAS</td>\n",
       "    </tr>\n",
       "    <tr>\n",
       "      <th>1209</th>\n",
       "      <td>COAHUILA DE ZARAGOZA</td>\n",
       "      <td>ARTEAGA</td>\n",
       "    </tr>\n",
       "    <tr>\n",
       "      <th>1246</th>\n",
       "      <td>COAHUILA DE ZARAGOZA</td>\n",
       "      <td>SALTILLO</td>\n",
       "    </tr>\n",
       "    <tr>\n",
       "      <th>1249</th>\n",
       "      <td>COAHUILA DE ZARAGOZA</td>\n",
       "      <td>SALTILLO</td>\n",
       "    </tr>\n",
       "    <tr>\n",
       "      <th>1282</th>\n",
       "      <td>COAHUILA DE ZARAGOZA</td>\n",
       "      <td>RAMOS ARIZPE</td>\n",
       "    </tr>\n",
       "    <tr>\n",
       "      <th>1287</th>\n",
       "      <td>COAHUILA DE ZARAGOZA</td>\n",
       "      <td>SALTILLO</td>\n",
       "    </tr>\n",
       "    <tr>\n",
       "      <th>1326</th>\n",
       "      <td>COAHUILA DE ZARAGOZA</td>\n",
       "      <td>SALTILLO</td>\n",
       "    </tr>\n",
       "    <tr>\n",
       "      <th>1328</th>\n",
       "      <td>COAHUILA DE ZARAGOZA</td>\n",
       "      <td>RAMOS ARIZPE</td>\n",
       "    </tr>\n",
       "    <tr>\n",
       "      <th>1329</th>\n",
       "      <td>COAHUILA DE ZARAGOZA</td>\n",
       "      <td>PARRAS</td>\n",
       "    </tr>\n",
       "    <tr>\n",
       "      <th>1363</th>\n",
       "      <td>COAHUILA DE ZARAGOZA</td>\n",
       "      <td>RAMOS ARIZPE</td>\n",
       "    </tr>\n",
       "    <tr>\n",
       "      <th>1364</th>\n",
       "      <td>COAHUILA DE ZARAGOZA</td>\n",
       "      <td>SALTILLO</td>\n",
       "    </tr>\n",
       "    <tr>\n",
       "      <th>1367</th>\n",
       "      <td>COAHUILA DE ZARAGOZA</td>\n",
       "      <td>SALTILLO</td>\n",
       "    </tr>\n",
       "    <tr>\n",
       "      <th>1371</th>\n",
       "      <td>COAHUILA DE ZARAGOZA</td>\n",
       "      <td>SALTILLO</td>\n",
       "    </tr>\n",
       "    <tr>\n",
       "      <th>1407</th>\n",
       "      <td>COAHUILA DE ZARAGOZA</td>\n",
       "      <td>SALTILLO</td>\n",
       "    </tr>\n",
       "    <tr>\n",
       "      <th>1409</th>\n",
       "      <td>COAHUILA DE ZARAGOZA</td>\n",
       "      <td>PARRAS</td>\n",
       "    </tr>\n",
       "    <tr>\n",
       "      <th>1411</th>\n",
       "      <td>COAHUILA DE ZARAGOZA</td>\n",
       "      <td>SALTILLO</td>\n",
       "    </tr>\n",
       "    <tr>\n",
       "      <th>1436</th>\n",
       "      <td>COAHUILA DE ZARAGOZA</td>\n",
       "      <td>SALTILLO</td>\n",
       "    </tr>\n",
       "    <tr>\n",
       "      <th>1443</th>\n",
       "      <td>COAHUILA DE ZARAGOZA</td>\n",
       "      <td>SALTILLO</td>\n",
       "    </tr>\n",
       "    <tr>\n",
       "      <th>1475</th>\n",
       "      <td>COAHUILA DE ZARAGOZA</td>\n",
       "      <td>RAMOS ARIZPE</td>\n",
       "    </tr>\n",
       "    <tr>\n",
       "      <th>1482</th>\n",
       "      <td>COAHUILA DE ZARAGOZA</td>\n",
       "      <td>SALTILLO</td>\n",
       "    </tr>\n",
       "    <tr>\n",
       "      <th>1483</th>\n",
       "      <td>COAHUILA DE ZARAGOZA</td>\n",
       "      <td>SALTILLO</td>\n",
       "    </tr>\n",
       "    <tr>\n",
       "      <th>1484</th>\n",
       "      <td>COAHUILA DE ZARAGOZA</td>\n",
       "      <td>RAMOS ARIZPE</td>\n",
       "    </tr>\n",
       "    <tr>\n",
       "      <th>1488</th>\n",
       "      <td>COAHUILA DE ZARAGOZA</td>\n",
       "      <td>PARRAS</td>\n",
       "    </tr>\n",
       "    <tr>\n",
       "      <th>1491</th>\n",
       "      <td>COAHUILA DE ZARAGOZA</td>\n",
       "      <td>PARRAS</td>\n",
       "    </tr>\n",
       "    <tr>\n",
       "      <th>...</th>\n",
       "      <td>...</td>\n",
       "      <td>...</td>\n",
       "    </tr>\n",
       "    <tr>\n",
       "      <th>21666</th>\n",
       "      <td>TAMAULIPAS</td>\n",
       "      <td>NUEVO LAREDO</td>\n",
       "    </tr>\n",
       "    <tr>\n",
       "      <th>21681</th>\n",
       "      <td>TAMAULIPAS</td>\n",
       "      <td>NUEVO LAREDO</td>\n",
       "    </tr>\n",
       "    <tr>\n",
       "      <th>21683</th>\n",
       "      <td>TAMAULIPAS</td>\n",
       "      <td>NUEVO LAREDO</td>\n",
       "    </tr>\n",
       "    <tr>\n",
       "      <th>21690</th>\n",
       "      <td>TAMAULIPAS</td>\n",
       "      <td>NUEVO LAREDO</td>\n",
       "    </tr>\n",
       "    <tr>\n",
       "      <th>21691</th>\n",
       "      <td>TAMAULIPAS</td>\n",
       "      <td>NUEVO LAREDO</td>\n",
       "    </tr>\n",
       "    <tr>\n",
       "      <th>21694</th>\n",
       "      <td>TAMAULIPAS</td>\n",
       "      <td>NUEVO LAREDO</td>\n",
       "    </tr>\n",
       "    <tr>\n",
       "      <th>21697</th>\n",
       "      <td>TAMAULIPAS</td>\n",
       "      <td>NUEVO LAREDO</td>\n",
       "    </tr>\n",
       "    <tr>\n",
       "      <th>21700</th>\n",
       "      <td>TAMAULIPAS</td>\n",
       "      <td>NUEVO LAREDO</td>\n",
       "    </tr>\n",
       "    <tr>\n",
       "      <th>21725</th>\n",
       "      <td>TAMAULIPAS</td>\n",
       "      <td>NUEVO LAREDO</td>\n",
       "    </tr>\n",
       "    <tr>\n",
       "      <th>21739</th>\n",
       "      <td>TAMAULIPAS</td>\n",
       "      <td>MIER</td>\n",
       "    </tr>\n",
       "    <tr>\n",
       "      <th>21743</th>\n",
       "      <td>TAMAULIPAS</td>\n",
       "      <td>NUEVO LAREDO</td>\n",
       "    </tr>\n",
       "    <tr>\n",
       "      <th>21754</th>\n",
       "      <td>TAMAULIPAS</td>\n",
       "      <td>NUEVO LAREDO</td>\n",
       "    </tr>\n",
       "    <tr>\n",
       "      <th>21771</th>\n",
       "      <td>TAMAULIPAS</td>\n",
       "      <td>NUEVO LAREDO</td>\n",
       "    </tr>\n",
       "    <tr>\n",
       "      <th>21772</th>\n",
       "      <td>TAMAULIPAS</td>\n",
       "      <td>MIGUEL ALEM</td>\n",
       "    </tr>\n",
       "    <tr>\n",
       "      <th>21774</th>\n",
       "      <td>TAMAULIPAS</td>\n",
       "      <td>NUEVO LAREDO</td>\n",
       "    </tr>\n",
       "    <tr>\n",
       "      <th>21792</th>\n",
       "      <td>TAMAULIPAS</td>\n",
       "      <td>NUEVO LAREDO</td>\n",
       "    </tr>\n",
       "    <tr>\n",
       "      <th>21796</th>\n",
       "      <td>TAMAULIPAS</td>\n",
       "      <td>NUEVO LAREDO</td>\n",
       "    </tr>\n",
       "    <tr>\n",
       "      <th>21821</th>\n",
       "      <td>TAMAULIPAS</td>\n",
       "      <td>NUEVO LAREDO</td>\n",
       "    </tr>\n",
       "    <tr>\n",
       "      <th>21831</th>\n",
       "      <td>TAMAULIPAS</td>\n",
       "      <td>NUEVO LAREDO</td>\n",
       "    </tr>\n",
       "    <tr>\n",
       "      <th>21834</th>\n",
       "      <td>TAMAULIPAS</td>\n",
       "      <td>NUEVO LAREDO</td>\n",
       "    </tr>\n",
       "    <tr>\n",
       "      <th>23231</th>\n",
       "      <td>ZACATECAS</td>\n",
       "      <td>JUAN ALDAMA</td>\n",
       "    </tr>\n",
       "    <tr>\n",
       "      <th>23351</th>\n",
       "      <td>ZACATECAS</td>\n",
       "      <td>MELCHOR OCAMPO</td>\n",
       "    </tr>\n",
       "    <tr>\n",
       "      <th>23443</th>\n",
       "      <td>ZACATECAS</td>\n",
       "      <td>JUAN ALDAMA</td>\n",
       "    </tr>\n",
       "    <tr>\n",
       "      <th>23584</th>\n",
       "      <td>ZACATECAS</td>\n",
       "      <td>JUAN ALDAMA</td>\n",
       "    </tr>\n",
       "    <tr>\n",
       "      <th>23725</th>\n",
       "      <td>ZACATECAS</td>\n",
       "      <td>MIGUEL AUZA</td>\n",
       "    </tr>\n",
       "    <tr>\n",
       "      <th>25123</th>\n",
       "      <td>ZACATECAS</td>\n",
       "      <td>JUAN ALDAMA</td>\n",
       "    </tr>\n",
       "    <tr>\n",
       "      <th>25640</th>\n",
       "      <td>ZACATECAS</td>\n",
       "      <td>MIGUEL AUZA</td>\n",
       "    </tr>\n",
       "    <tr>\n",
       "      <th>25645</th>\n",
       "      <td>ZACATECAS</td>\n",
       "      <td>MIGUEL AUZA</td>\n",
       "    </tr>\n",
       "    <tr>\n",
       "      <th>25679</th>\n",
       "      <td>ZACATECAS</td>\n",
       "      <td>JUAN ALDAMA</td>\n",
       "    </tr>\n",
       "    <tr>\n",
       "      <th>25686</th>\n",
       "      <td>ZACATECAS</td>\n",
       "      <td>MIGUEL AUZA</td>\n",
       "    </tr>\n",
       "  </tbody>\n",
       "</table>\n",
       "<p>713 rows × 2 columns</p>\n",
       "</div>"
      ],
      "text/plain": [
       "                   OBJECTID          Estado\n",
       "1165   COAHUILA DE ZARAGOZA        SALTILLO\n",
       "1166   COAHUILA DE ZARAGOZA        SALTILLO\n",
       "1177   COAHUILA DE ZARAGOZA          PARRAS\n",
       "1179   COAHUILA DE ZARAGOZA        SALTILLO\n",
       "1203   COAHUILA DE ZARAGOZA        SALTILLO\n",
       "1205   COAHUILA DE ZARAGOZA          PARRAS\n",
       "1208   COAHUILA DE ZARAGOZA          PARRAS\n",
       "1209   COAHUILA DE ZARAGOZA         ARTEAGA\n",
       "1246   COAHUILA DE ZARAGOZA        SALTILLO\n",
       "1249   COAHUILA DE ZARAGOZA        SALTILLO\n",
       "1282   COAHUILA DE ZARAGOZA    RAMOS ARIZPE\n",
       "1287   COAHUILA DE ZARAGOZA        SALTILLO\n",
       "1326   COAHUILA DE ZARAGOZA        SALTILLO\n",
       "1328   COAHUILA DE ZARAGOZA    RAMOS ARIZPE\n",
       "1329   COAHUILA DE ZARAGOZA          PARRAS\n",
       "1363   COAHUILA DE ZARAGOZA    RAMOS ARIZPE\n",
       "1364   COAHUILA DE ZARAGOZA        SALTILLO\n",
       "1367   COAHUILA DE ZARAGOZA        SALTILLO\n",
       "1371   COAHUILA DE ZARAGOZA        SALTILLO\n",
       "1407   COAHUILA DE ZARAGOZA        SALTILLO\n",
       "1409   COAHUILA DE ZARAGOZA          PARRAS\n",
       "1411   COAHUILA DE ZARAGOZA        SALTILLO\n",
       "1436   COAHUILA DE ZARAGOZA        SALTILLO\n",
       "1443   COAHUILA DE ZARAGOZA        SALTILLO\n",
       "1475   COAHUILA DE ZARAGOZA    RAMOS ARIZPE\n",
       "1482   COAHUILA DE ZARAGOZA        SALTILLO\n",
       "1483   COAHUILA DE ZARAGOZA        SALTILLO\n",
       "1484   COAHUILA DE ZARAGOZA    RAMOS ARIZPE\n",
       "1488   COAHUILA DE ZARAGOZA          PARRAS\n",
       "1491   COAHUILA DE ZARAGOZA          PARRAS\n",
       "...                     ...             ...\n",
       "21666            TAMAULIPAS    NUEVO LAREDO\n",
       "21681            TAMAULIPAS    NUEVO LAREDO\n",
       "21683            TAMAULIPAS    NUEVO LAREDO\n",
       "21690            TAMAULIPAS    NUEVO LAREDO\n",
       "21691            TAMAULIPAS    NUEVO LAREDO\n",
       "21694            TAMAULIPAS    NUEVO LAREDO\n",
       "21697            TAMAULIPAS    NUEVO LAREDO\n",
       "21700            TAMAULIPAS    NUEVO LAREDO\n",
       "21725            TAMAULIPAS    NUEVO LAREDO\n",
       "21739            TAMAULIPAS            MIER\n",
       "21743            TAMAULIPAS    NUEVO LAREDO\n",
       "21754            TAMAULIPAS    NUEVO LAREDO\n",
       "21771            TAMAULIPAS    NUEVO LAREDO\n",
       "21772            TAMAULIPAS     MIGUEL ALEM\n",
       "21774            TAMAULIPAS    NUEVO LAREDO\n",
       "21792            TAMAULIPAS    NUEVO LAREDO\n",
       "21796            TAMAULIPAS    NUEVO LAREDO\n",
       "21821            TAMAULIPAS    NUEVO LAREDO\n",
       "21831            TAMAULIPAS    NUEVO LAREDO\n",
       "21834            TAMAULIPAS    NUEVO LAREDO\n",
       "23231             ZACATECAS     JUAN ALDAMA\n",
       "23351             ZACATECAS  MELCHOR OCAMPO\n",
       "23443             ZACATECAS     JUAN ALDAMA\n",
       "23584             ZACATECAS     JUAN ALDAMA\n",
       "23725             ZACATECAS     MIGUEL AUZA\n",
       "25123             ZACATECAS     JUAN ALDAMA\n",
       "25640             ZACATECAS     MIGUEL AUZA\n",
       "25645             ZACATECAS     MIGUEL AUZA\n",
       "25679             ZACATECAS     JUAN ALDAMA\n",
       "25686             ZACATECAS     MIGUEL AUZA\n",
       "\n",
       "[713 rows x 2 columns]"
      ]
     },
     "execution_count": 64,
     "metadata": {},
     "output_type": "execute_result"
    }
   ],
   "source": [
    "df5.head(-1)"
   ]
  },
  {
   "cell_type": "code",
   "execution_count": null,
   "metadata": {},
   "outputs": [],
   "source": []
  },
  {
   "cell_type": "code",
   "execution_count": null,
   "metadata": {},
   "outputs": [],
   "source": []
  },
  {
   "cell_type": "code",
   "execution_count": 13,
   "metadata": {},
   "outputs": [
    {
     "data": {
      "text/plain": [
       "OBJECTID    714\n",
       "Estado      714\n",
       "dtype: int64"
      ]
     },
     "execution_count": 13,
     "metadata": {},
     "output_type": "execute_result"
    }
   ],
   "source": [
    "df1.count()"
   ]
  },
  {
   "cell_type": "code",
   "execution_count": null,
   "metadata": {},
   "outputs": [],
   "source": []
  },
  {
   "cell_type": "code",
   "execution_count": 53,
   "metadata": {},
   "outputs": [],
   "source": [
    "estados = ['Aguascalientes','Baja California','Baja California Sur','Campeche','Chiapas','Chihuahua','Ciudad de Mexico','Coahuila de Zaragoza','Colima','Durango','Estado de Mexico','Guanajuato','Guerrero','Hidalgo','Jalisco','Michoacan de Ocampo','Morelos','Nayarit','Nuevo Leon','Oaxaca','Puebla',\n",
    "           'Queretaro','Quintana Roo','San Luis Potosi','Sinaloa','Sonora','Tabasco','Tamaulipas','Tlaxcala','Veracruz de Ignacio de la Llave','Yucatán',\n",
    "           'Zacatecas','Distrito Federal']"
   ]
  },
  {
   "cell_type": "code",
   "execution_count": 54,
   "metadata": {},
   "outputs": [
    {
     "name": "stdout",
     "output_type": "stream",
     "text": [
      "Aguascalientes\n",
      "Baja California\n",
      "Baja California Sur\n",
      "Campeche\n",
      "Chiapas\n",
      "Chihuahua\n",
      "Ciudad de Mexico\n",
      "Coahuila de Zaragoza\n",
      "Colima\n",
      "Durango\n",
      "Estado de Mexico\n",
      "Guanajuato\n",
      "Guerrero\n",
      "Hidalgo\n",
      "Jalisco\n",
      "Michoacan de Ocampo\n",
      "Morelos\n",
      "Nayarit\n",
      "Nuevo Leon\n",
      "Oaxaca\n",
      "Puebla\n",
      "Queretaro\n",
      "Quintana Roo\n",
      "San Luis Potosi\n",
      "Sinaloa\n",
      "Sonora\n",
      "Tabasco\n",
      "Tamaulipas\n",
      "Tlaxcala\n",
      "Veracruz de Ignacio de la Llave\n",
      "Yucatán\n",
      "Zacatecas\n",
      "Distrito Federal\n"
     ]
    }
   ],
   "source": [
    "for i in estados:\n",
    "    print(i)"
   ]
  },
  {
   "cell_type": "code",
   "execution_count": 52,
   "metadata": {},
   "outputs": [
    {
     "ename": "AttributeError",
     "evalue": "'list' object has no attribute 'info'",
     "output_type": "error",
     "traceback": [
      "\u001b[0;31m---------------------------------------------------------------------------\u001b[0m",
      "\u001b[0;31mAttributeError\u001b[0m                            Traceback (most recent call last)",
      "\u001b[0;32m<ipython-input-52-43299b56ff20>\u001b[0m in \u001b[0;36m<module>\u001b[0;34m()\u001b[0m\n\u001b[0;32m----> 1\u001b[0;31m \u001b[0mestados\u001b[0m\u001b[0;34m.\u001b[0m\u001b[0minfo\u001b[0m\u001b[0;34m(\u001b[0m\u001b[0;34m)\u001b[0m\u001b[0;34m\u001b[0m\u001b[0m\n\u001b[0m",
      "\u001b[0;31mAttributeError\u001b[0m: 'list' object has no attribute 'info'"
     ]
    }
   ],
   "source": [
    "estados.info()"
   ]
  },
  {
   "cell_type": "code",
   "execution_count": null,
   "metadata": {},
   "outputs": [],
   "source": []
  },
  {
   "cell_type": "code",
   "execution_count": null,
   "metadata": {},
   "outputs": [],
   "source": []
  },
  {
   "cell_type": "code",
   "execution_count": null,
   "metadata": {},
   "outputs": [],
   "source": []
  },
  {
   "cell_type": "code",
   "execution_count": 56,
   "metadata": {},
   "outputs": [],
   "source": [
    "estados2=df1['OBJECTID'].unique()"
   ]
  },
  {
   "cell_type": "code",
   "execution_count": 57,
   "metadata": {},
   "outputs": [
    {
     "ename": "AttributeError",
     "evalue": "'numpy.ndarray' object has no attribute 'head'",
     "output_type": "error",
     "traceback": [
      "\u001b[0;31m---------------------------------------------------------------------------\u001b[0m",
      "\u001b[0;31mAttributeError\u001b[0m                            Traceback (most recent call last)",
      "\u001b[0;32m<ipython-input-57-20a974780ad8>\u001b[0m in \u001b[0;36m<module>\u001b[0;34m()\u001b[0m\n\u001b[0;32m----> 1\u001b[0;31m \u001b[0mestados2\u001b[0m\u001b[0;34m.\u001b[0m\u001b[0mhead\u001b[0m\u001b[0;34m(\u001b[0m\u001b[0;34m)\u001b[0m\u001b[0;34m\u001b[0m\u001b[0m\n\u001b[0m",
      "\u001b[0;31mAttributeError\u001b[0m: 'numpy.ndarray' object has no attribute 'head'"
     ]
    }
   ],
   "source": [
    "estados2.head()"
   ]
  },
  {
   "cell_type": "code",
   "execution_count": null,
   "metadata": {},
   "outputs": [],
   "source": []
  },
  {
   "cell_type": "code",
   "execution_count": 19,
   "metadata": {},
   "outputs": [
    {
     "name": "stdout",
     "output_type": "stream",
     "text": [
      "COAHUILA DE ZARAGOZA\n",
      "DURANGO\n",
      "NUEVO LEIN\n",
      "NUEVO LELN\n",
      "NUEVO LEON\n",
      "NUEVO LEtN\n",
      "NUEVO LE N\n",
      "NUEVO LEEN\n",
      "NUEVO LE\n",
      "NUEVO LETN\n",
      "NUEVO LEMN\n",
      "NUEVO LEAN\n",
      "NUEVO LEeN\n",
      "NUEVO LEGN\n",
      "NUEVO LESN\n",
      "NUEVO LEZN\n",
      "NUEVO LEVN\n",
      "NUEVO LEXN\n",
      "NUEVO LECN\n",
      "NUEVO LEyN\n",
      "NAYARIT\n",
      "NUEVO LENN\n",
      "NUEVO LERN\n",
      "NUEVO LEYN\n",
      "NUEVO LEDN\n",
      "NUEVO LEUN\n",
      "NUEVO LEPN\n",
      "NUEVO LEJN\n",
      "SINALOA\n",
      "TAMAULIPAS\n",
      "ZACATECAS\n"
     ]
    }
   ],
   "source": [
    "\n",
    "for i in estados:\n",
    "    print(i)"
   ]
  },
  {
   "cell_type": "code",
   "execution_count": 65,
   "metadata": {},
   "outputs": [
    {
     "name": "stdout",
     "output_type": "stream",
     "text": [
      "Ben\n",
      "Ben\n",
      "Ben\n",
      "Ben\n",
      "Ben\n",
      "Ben\n",
      "Ben\n",
      "Ben\n",
      "Ben\n",
      "Ben\n",
      "Ben\n",
      "Ben\n",
      "Ben\n",
      "Ben\n",
      "Ben\n",
      "Ben\n",
      "Ben\n",
      "Ben\n",
      "Ben\n",
      "Ben\n",
      "Ben\n",
      "Ben\n",
      "Ben\n",
      "Ben\n",
      "Ben\n",
      "Ben\n",
      "Ben\n",
      "Ben\n",
      "Ben\n",
      "Ben\n",
      "Ben\n",
      "Ben\n",
      "Ben\n",
      "Ben\n",
      "Ben\n",
      "Ben\n",
      "Ben\n",
      "Ben\n",
      "Ben\n",
      "Ben\n",
      "Ben\n",
      "Ben\n",
      "Ben\n",
      "Ben\n",
      "Ben\n",
      "Ben\n",
      "Ben\n",
      "Ben\n",
      "Ben\n",
      "Ben\n",
      "Ben\n",
      "Ben\n",
      "Ben\n",
      "Ben\n",
      "Ben\n",
      "Ben\n",
      "Ben\n",
      "Ben\n",
      "Ben\n",
      "Ben\n",
      "Ben\n",
      "Ben\n",
      "Ben\n",
      "Ben\n",
      "Ben\n",
      "Ben\n"
     ]
    }
   ],
   "source": [
    "for i in estados:\n",
    "    for x in df5:\n",
    "        if i == x:\n",
    "            print('Ben')\n",
    "        else:\n",
    "            print('Eror609')"
   ]
  },
  {
   "cell_type": "code",
   "execution_count": null,
   "metadata": {},
   "outputs": [],
   "source": []
  },
  {
   "cell_type": "code",
   "execution_count": 25,
   "metadata": {},
   "outputs": [],
   "source": [
    "df2 = df.groupby(('Estado','OBJECTID')).Estado.sum()"
   ]
  },
  {
   "cell_type": "code",
   "execution_count": null,
   "metadata": {},
   "outputs": [],
   "source": []
  },
  {
   "cell_type": "code",
   "execution_count": 26,
   "metadata": {},
   "outputs": [
    {
     "data": {
      "text/plain": [
       "Estado   OBJECTID  \n",
       "AN5HUAC  NUEVO LE                                  AN5HUAC\n",
       "         NUEVO LEAN                                AN5HUAC\n",
       "         NUEVO LETN    AN5HUACAN5HUACAN5HUACAN5HUACAN5HUAC\n",
       "APODACA  NUEVO LE                    APODACAAPODACAAPODACA\n",
       "         NUEVO LE N                                APODACA\n",
       "Name: Estado, dtype: object"
      ]
     },
     "execution_count": 26,
     "metadata": {},
     "output_type": "execute_result"
    }
   ],
   "source": [
    "df2.head()"
   ]
  },
  {
   "cell_type": "code",
   "execution_count": null,
   "metadata": {},
   "outputs": [],
   "source": []
  },
  {
   "cell_type": "code",
   "execution_count": 16,
   "metadata": {},
   "outputs": [
    {
     "ename": "AttributeError",
     "evalue": "'numpy.ndarray' object has no attribute 'head'",
     "output_type": "error",
     "traceback": [
      "\u001b[0;31m---------------------------------------------------------------------------\u001b[0m",
      "\u001b[0;31mAttributeError\u001b[0m                            Traceback (most recent call last)",
      "\u001b[0;32m<ipython-input-16-e3bac45f4235>\u001b[0m in \u001b[0;36m<module>\u001b[0;34m()\u001b[0m\n\u001b[0;32m----> 1\u001b[0;31m \u001b[0mestados\u001b[0m\u001b[0;34m.\u001b[0m\u001b[0mhead\u001b[0m\u001b[0;34m(\u001b[0m\u001b[0;34m)\u001b[0m\u001b[0;34m\u001b[0m\u001b[0m\n\u001b[0m",
      "\u001b[0;31mAttributeError\u001b[0m: 'numpy.ndarray' object has no attribute 'head'"
     ]
    }
   ],
   "source": []
  },
  {
   "cell_type": "code",
   "execution_count": null,
   "metadata": {},
   "outputs": [],
   "source": []
  },
  {
   "cell_type": "code",
   "execution_count": 18,
   "metadata": {},
   "outputs": [
    {
     "name": "stdout",
     "output_type": "stream",
     "text": [
      "COAHUILA DE ZARAGOZA\n",
      "DURANGO\n",
      "NUEVO LEIN\n",
      "NUEVO LELN\n",
      "NUEVO LEON\n",
      "NUEVO LEtN\n",
      "NUEVO LE N\n",
      "NUEVO LEEN\n",
      "NUEVO LE\n",
      "NUEVO LETN\n",
      "NUEVO LEMN\n",
      "NUEVO LEAN\n",
      "NUEVO LEeN\n",
      "NUEVO LEGN\n",
      "NUEVO LESN\n",
      "NUEVO LEZN\n",
      "NUEVO LEVN\n",
      "NUEVO LEXN\n",
      "NUEVO LECN\n",
      "NUEVO LEyN\n",
      "NAYARIT\n",
      "NUEVO LENN\n",
      "NUEVO LERN\n",
      "NUEVO LEYN\n",
      "NUEVO LEDN\n",
      "NUEVO LEUN\n",
      "NUEVO LEPN\n",
      "NUEVO LEJN\n",
      "SINALOA\n",
      "TAMAULIPAS\n",
      "ZACATECAS\n"
     ]
    }
   ],
   "source": [
    "for i in estados:\n",
    "    print(i)"
   ]
  },
  {
   "cell_type": "code",
   "execution_count": null,
   "metadata": {},
   "outputs": [],
   "source": []
  },
  {
   "cell_type": "code",
   "execution_count": null,
   "metadata": {},
   "outputs": [],
   "source": [
    "df['Estado','Municipio'].head()"
   ]
  },
  {
   "cell_type": "code",
   "execution_count": null,
   "metadata": {},
   "outputs": [],
   "source": []
  },
  {
   "cell_type": "code",
   "execution_count": null,
   "metadata": {},
   "outputs": [],
   "source": [
    "df.head()"
   ]
  },
  {
   "cell_type": "code",
   "execution_count": null,
   "metadata": {},
   "outputs": [],
   "source": []
  },
  {
   "cell_type": "code",
   "execution_count": null,
   "metadata": {},
   "outputs": [],
   "source": []
  },
  {
   "cell_type": "code",
   "execution_count": null,
   "metadata": {},
   "outputs": [],
   "source": []
  },
  {
   "cell_type": "code",
   "execution_count": null,
   "metadata": {},
   "outputs": [],
   "source": [
    "df = df.sample(frac=0.1)"
   ]
  }
 ],
 "metadata": {
  "kernelspec": {
   "display_name": "Python 2",
   "language": "python",
   "name": "python2"
  },
  "language_info": {
   "codemirror_mode": {
    "name": "ipython",
    "version": 2
   },
   "file_extension": ".py",
   "mimetype": "text/x-python",
   "name": "python",
   "nbconvert_exporter": "python",
   "pygments_lexer": "ipython2",
   "version": "2.7.13"
  }
 },
 "nbformat": 4,
 "nbformat_minor": 2
}
